{
 "cells": [
  {
   "cell_type": "code",
   "execution_count": 4,
   "metadata": {},
   "outputs": [],
   "source": [
    "import numpy as np\n",
    "import cv2\n",
    "import matplotlib.pyplot as plt \n",
    "import time\n",
    "from scipy import ndimage\n",
    "\n",
    "\n",
    "'''\n",
    "Below we include some functions used for data processing. \n",
    "Please kindly follow citation suggestions in the README.md is you use below code in your research.\n",
    "'''\n",
    "\n",
    "def PlotGantry(bg_img, angles, x, y, length, width = 4):\n",
    "\n",
    "    angles = [angle - 90 for angle in angles]\n",
    "    \n",
    "    points = [(int(x + length * np.cos(np.pi / 180 * float(angle))), int(y + length * np.sin(np.pi / 180 * float(angle)))) for angle in angles]\n",
    "    for point in points:\n",
    "        cv2.line(bg_img, point, (x, y), (1), width)\n",
    "    return bg_img\n",
    "\n",
    "def interpolate_point_on_line(x1, y1, z1, x2, y2, z2, y_c):\n",
    "    \"\"\"\n",
    "    Returns the coordinates of point C on the line segment from (x1, y1, z1) to (x2, y2, z2)\n",
    "    with the specified y-coordinate y_c.\n",
    "    \"\"\"\n",
    "    # Calculate the ratio of y_c relative to the total y-distance between points A and B\n",
    "\n",
    "    if y2 == y1:\n",
    "        y2 += 1\n",
    "    ratio = (y_c - y1) / (y2 - y1)\n",
    "    \n",
    "    # Use linear interpolation to find the corresponding x and z coordinates\n",
    "    x_c = x1 + ratio * (x2 - x1)\n",
    "    z_c = z1 + ratio * (z2 - z1)\n",
    "    \n",
    "    return int(x_c), int(y_c), int(z_c)\n",
    "\n",
    "\n",
    "def interpolate_line(x1, y1, z1, x2, y2, z2, y_c):\n",
    "    \"\"\"\n",
    "    Returns all the coordinates along the line segment from (x1, y1, z1) to (x2, y2, z2).\n",
    "    \"\"\"\n",
    "    # Calculate the distance between the points\n",
    "\n",
    "    x_c, y_c, z_c = interpolate_point_on_line(x1, y1, z1, x2, y2, z2, y_c)\n",
    "\n",
    "    length = max(abs(x_c - x1), abs(y_c - y1), abs(z_c - z1))\n",
    "    \n",
    "    # Generate linearly spaced coordinates between the points\n",
    "    x_coords = np.linspace(x1, x_c, length + 1)\n",
    "    y_coords = np.linspace(y1, y_c, length + 1)\n",
    "    z_coords = np.linspace(z1, z_c, length + 1)\n",
    "    \n",
    "    # Round coordinates to integers\n",
    "    x_coords = np.round(x_coords).astype(int)\n",
    "    y_coords = np.round(y_coords).astype(int)\n",
    "    z_coords = np.round(z_coords).astype(int)\n",
    "    \n",
    "    # Combine coordinates into tuples\n",
    "    coordinates = [(x, y, z) for x, y, z in zip(x_coords, y_coords, z_coords)]\n",
    "    \n",
    "    return coordinates\n",
    "\n",
    "\n",
    "def get_source_from_angle(isocenter, angle, space):\n",
    "    angle = angle - 90 \n",
    "    \n",
    "    points =  isocenter[0], int(isocenter[1] + 1000 * np.sin(np.pi / 180 * float(angle)) / space[1]), int(isocenter[2] + 1000 * np.cos(np.pi / 180 * float(angle)) / space[2])\n",
    "    return points\n",
    "\n",
    "def get_nonzero_coordinates(binary_mask):\n",
    "    \"\"\"\n",
    "    Returns the coordinates of non-zero values in a binary mask.\n",
    "    \"\"\"\n",
    "    nonzero_coords = np.transpose(np.nonzero(binary_mask))\n",
    "    return [tuple(coord) for coord in nonzero_coords]\n",
    "\n",
    "def surface_coordinates(binary_mask):\n",
    "    nonzero_coords = get_nonzero_coordinates(binary_mask)\n",
    "    surface_coords = []\n",
    "    for coord in nonzero_coords:\n",
    "        x, y, z = coord\n",
    "        if (binary_mask[x-1, y, z] == 0 or\n",
    "            binary_mask[x+1, y, z] == 0 or\n",
    "            binary_mask[x, y-1, z] == 0 or\n",
    "            binary_mask[x, y+1, z] == 0 or\n",
    "            binary_mask[x, y, z-1] == 0 or\n",
    "            binary_mask[x, y, z+1] == 0):\n",
    "            surface_coords.append((x, y, z))  \n",
    "    return surface_coords\n",
    "\n",
    "def get_per_beamplate(PTV_mask, isocenter, space, gantry_angle, with_distance = True):\n",
    "    \n",
    "    # PTV_mask (z, x, y), sicenter = (z, x, y), space = (z, x, y), gantry_angle = float\n",
    "\n",
    "    source = get_source_from_angle(isocenter, gantry_angle, space)\n",
    "    #print ('source', source)\n",
    "\n",
    "\n",
    "    surface_coords = surface_coordinates(PTV_mask)\n",
    "    #print (time.time() - start)\n",
    "\n",
    "    all_points = []\n",
    "    for point in surface_coords:\n",
    "        if source[1] > point[1]:\n",
    "            y_c = 0\n",
    "        else:\n",
    "            y_c = PTV_mask.shape[1] - 1\n",
    "        path = interpolate_line(source[0], source[1], source[2], point[0], point[1], point[2], y_c = y_c)\n",
    "        all_points.extend(path)\n",
    "    #print (time.time() - start)\n",
    "\n",
    "    beam_plate = np.zeros_like(PTV_mask).astype(np.uint8)\n",
    "    for item in set(all_points):\n",
    "        if item[0] >= 0 and item[0] < PTV_mask.shape[0] and item[1] >= 0 and item[1] < PTV_mask.shape[1] and item[2] >= 0 and item[2] < PTV_mask.shape[2]:\n",
    "            beam_plate[item[0], item[1], item[2]] = 1\n",
    "    #print (time.time() - start)\n",
    "    beam_plate = ndimage.binary_dilation(beam_plate, structure=np.ones((4,4,4))) #.astype(PTV_mask.dtype)\n",
    "    beam_plate = ndimage.binary_erosion(beam_plate, structure=np.ones((3,3,3))) #.astype(PTV_mask.dtype)\n",
    "\n",
    "    #print (time.time() - start)\n",
    "\n",
    "    if with_distance:\n",
    "        x_indices = np.arange(beam_plate.shape[0])\n",
    "        y_indices = np.arange(beam_plate.shape[1])\n",
    "        z_indices = np.arange(beam_plate.shape[2])\n",
    "\n",
    "        x_coords, y_coords, z_coords = np.meshgrid(x_indices, y_indices, z_indices, indexing='ij')\n",
    "\n",
    "        # Compute distances using broadcasting\n",
    "        distances = (x_coords - source[0])**2 + (y_coords - source[1])**2 + (z_coords - source[2])**2\n",
    "\n",
    "        r_dis = ((source[0] - isocenter[0]) ** 2 + (source[1] - isocenter[1]) ** 2 + (source[2] - isocenter[2]) ** 2) / distances \n",
    "        beam_plate = beam_plate * r_dis\n",
    "        #print (time.time() - start)\n",
    "\n",
    "    return beam_plate\n",
    "\n",
    "def get_allbeam_plate(PTV_mask, isocenter, space, angles, with_distance = True):\n",
    "    all_beam_plate = np.zeros_like(PTV_mask).astype('float')\n",
    "    for angle in angles:\n",
    "        all_beam_plate += get_per_beamplate(PTV_mask, isocenter, space, angle, with_distance = with_distance)\n",
    "    return all_beam_plate\n",
    "\n",
    "\n"
   ]
  },
  {
   "cell_type": "code",
   "execution_count": 2,
   "metadata": {},
   "outputs": [
    {
     "name": "stdout",
     "output_type": "stream",
     "text": [
      "dict_keys(['50per_Ring1.5-5', 'Body', 'Body_Ring0-3', 'BrachialPlexus', 'CTV', 'Esophagus', 'GTV', 'GreatVessels', 'Heart', 'LAD', 'Lung_Cntr', 'Lung_Ipsi', 'Lung_Total', 'PTV', 'PTV_Ring.3-2', 'SpinalCord', 'SpinalCord_05', 'Total Lung-GTV', 'Trachea', 'all_mask', 'img', 'dose', 'dose_scale', 'isVMAT', 'angle_plate', 'isocenter', 'angle_list', 'origin', 'spacing', 'direction', 'size', 'beam_plate'])\n"
     ]
    }
   ],
   "source": [
    "data_path = 'data/0617-259694+imrt+MOS_33896.npz'\n",
    "data_npz = np.load(data_path, allow_pickle=True)\n",
    "data_dict = dict(data_npz)['arr_0'].item()\n",
    "print (data_dict.keys())\n"
   ]
  },
  {
   "cell_type": "code",
   "execution_count": 12,
   "metadata": {},
   "outputs": [
    {
     "name": "stdout",
     "output_type": "stream",
     "text": [
      "(96, 100, 151) [48.0, 64.0, 55.0]\n"
     ]
    },
    {
     "data": {
      "image/png": "[encoded data removed]",
      "text/plain": [
       "<Figure size 640x480 with 1 Axes>"
      ]
     },
     "metadata": {},
     "output_type": "display_data"
    }
   ],
   "source": [
    "print (data_dict['PTV'].shape, data_dict['isocenter'])\n",
    "save_fig = True\n",
    "\n",
    "plt.tight_layout(pad=0)\n",
    "plt.imshow(data_dict['PTV'][48])\n",
    "\n",
    "if save_fig:\n",
    "    plt.axis('off')\n",
    "    plt.savefig('figs/PTV.png', bbox_inches='tight', pad_inches=0)\n",
    "\n"
   ]
  },
  {
   "cell_type": "code",
   "execution_count": 13,
   "metadata": {},
   "outputs": [
    {
     "data": {
      "image/png": "[encoded data removed]",
      "text/plain": [
       "<Figure size 640x480 with 1 Axes>"
      ]
     },
     "metadata": {},
     "output_type": "display_data"
    }
   ],
   "source": [
    "\n",
    "angle_plate = PlotGantry(bg_img = np.zeros_like(data_dict['PTV'][0]), \n",
    "                         angles = data_dict['angle_list'], \n",
    "                         x = int(data_dict['isocenter'][2]), \n",
    "                         y = int(data_dict['isocenter'][1]),\n",
    "                        length =  50,\n",
    "                         width = 4)\n",
    "plt.imshow(angle_plate)\n",
    "\n",
    "if save_fig:\n",
    "    plt.axis('off')\n",
    "    plt.savefig('figs/angle_plate.png', bbox_inches='tight', pad_inches=0)"
   ]
  },
  {
   "cell_type": "code",
   "execution_count": 67,
   "metadata": {},
   "outputs": [
    {
     "name": "stdout",
     "output_type": "stream",
     "text": [
      "[  0. 160. 280. 320.  40. 200.  80. 240. 120.]\n"
     ]
    }
   ],
   "source": [
    "print (data_dict['angle_list'])"
   ]
  },
  {
   "cell_type": "code",
   "execution_count": 68,
   "metadata": {},
   "outputs": [
    {
     "name": "stdout",
     "output_type": "stream",
     "text": [
      "the beam angle is: 0.0\n"
     ]
    },
    {
     "data": {
      "text/plain": [
       "<matplotlib.image.AxesImage at 0x2aabacba63e0>"
      ]
     },
     "execution_count": 68,
     "metadata": {},
     "output_type": "execute_result"
    },
    {
     "data": {
      "image/png": "[encoded data removed]",
      "text/plain": [
       "<Figure size 640x480 with 1 Axes>"
      ]
     },
     "metadata": {},
     "output_type": "display_data"
    }
   ],
   "source": [
    "all_beam_plate = []\n",
    "\n",
    "beam_plate1 = get_per_beamplate(data_dict['PTV'].copy(), data_dict['isocenter'],\n",
    "                                 [2, 2.5, 2.5], data_dict['angle_list'][0], with_distance = True).astype('float')\n",
    "print ('the beam angle is:', data_dict['angle_list'][0])\n",
    "\n",
    "plt.imshow(beam_plate1[48] + data_dict['PTV'][48])\n",
    "\n",
    "if save_fig:\n",
    "    plt.axis('off')\n",
    "    plt.savefig('figs/beam_plate1.png', bbox_inches='tight', pad_inches=0)\n",
    "\n"
   ]
  },
  {
   "cell_type": "code",
   "execution_count": 14,
   "metadata": {},
   "outputs": [
    {
     "name": "stdout",
     "output_type": "stream",
     "text": [
      "the beam angle is: 160.0\n"
     ]
    },
    {
     "data": {
      "image/png": "[encoded data removed]",
      "text/plain": [
       "<Figure size 640x480 with 1 Axes>"
      ]
     },
     "metadata": {},
     "output_type": "display_data"
    }
   ],
   "source": [
    "beam_plate2 = get_per_beamplate(data_dict['PTV'].copy(), data_dict['isocenter'],\n",
    "                                [2, 2.5, 2.5], data_dict['angle_list'][1], with_distance = True).astype('float')\n",
    "print ('the beam angle is:', data_dict['angle_list'][1])\n",
    "\n",
    "plt.imshow(beam_plate2[48] + data_dict['PTV'][48])\n",
    "\n",
    "if save_fig:\n",
    "    plt.axis('off')\n",
    "    plt.savefig('figs/beam_plate2.png', bbox_inches='tight', pad_inches=0)"
   ]
  },
  {
   "cell_type": "code",
   "execution_count": 15,
   "metadata": {},
   "outputs": [
    {
     "name": "stdout",
     "output_type": "stream",
     "text": [
      "the beam angle is: 280.0\n"
     ]
    },
    {
     "data": {
      "image/png": "[encoded data removed]",
      "text/plain": [
       "<Figure size 640x480 with 1 Axes>"
      ]
     },
     "metadata": {},
     "output_type": "display_data"
    }
   ],
   "source": [
    "beam_plate3 = get_per_beamplate(data_dict['PTV'].copy(), data_dict['isocenter'],\n",
    "                                    [2, 2.5, 2.5], data_dict['angle_list'][2], with_distance = True).astype('float')\n",
    "print ('the beam angle is:', data_dict['angle_list'][2])\n",
    "\n",
    "plt.imshow(beam_plate3[48] + data_dict['PTV'][48])\n",
    "\n",
    "if save_fig:\n",
    "    plt.axis('off')\n",
    "    plt.savefig('figs/beam_plate3.png', bbox_inches='tight', pad_inches=0)"
   ]
  },
  {
   "cell_type": "code",
   "execution_count": 17,
   "metadata": {},
   "outputs": [
    {
     "name": "stdout",
     "output_type": "stream",
     "text": [
      "the beam angle is: 320.0\n"
     ]
    },
    {
     "data": {
      "image/png": "[encoded data removed]",
      "text/plain": [
       "<Figure size 640x480 with 1 Axes>"
      ]
     },
     "metadata": {},
     "output_type": "display_data"
    }
   ],
   "source": [
    "beam_plate4 = get_per_beamplate(data_dict['PTV'].copy(), data_dict['isocenter'],\n",
    "                                    [2, 2.5, 2.5], data_dict['angle_list'][3], with_distance = True).astype('float')\n",
    "print ('the beam angle is:', data_dict['angle_list'][3])\n",
    "\n",
    "plt.imshow(beam_plate4[48] + data_dict['PTV'][48])\n",
    "\n",
    "if save_fig:\n",
    "    plt.axis('off')\n",
    "    plt.savefig('figs/beam_plate4.png', bbox_inches='tight', pad_inches=0)"
   ]
  },
  {
   "cell_type": "code",
   "execution_count": 18,
   "metadata": {},
   "outputs": [
    {
     "name": "stdout",
     "output_type": "stream",
     "text": [
      "the beam angle is: 40.0\n"
     ]
    },
    {
     "data": {
      "image/png": "[encoded data removed]",
      "text/plain": [
       "<Figure size 640x480 with 1 Axes>"
      ]
     },
     "metadata": {},
     "output_type": "display_data"
    }
   ],
   "source": [
    "beam_plate5 = get_per_beamplate(data_dict['PTV'].copy(), data_dict['isocenter'],\n",
    "                                    [2, 2.5, 2.5], data_dict['angle_list'][4], with_distance = True).astype('float')\n",
    "print ('the beam angle is:', data_dict['angle_list'][4])\n",
    "\n",
    "plt.imshow(beam_plate5[48] + data_dict['PTV'][48])\n",
    "\n",
    "if save_fig:\n",
    "    plt.axis('off')\n",
    "    plt.savefig('figs/beam_plate5.png', bbox_inches='tight', pad_inches=0)\n"
   ]
  },
  {
   "cell_type": "code",
   "execution_count": 19,
   "metadata": {},
   "outputs": [
    {
     "name": "stdout",
     "output_type": "stream",
     "text": [
      "the beam angle is: 200.0\n"
     ]
    },
    {
     "data": {
      "image/png": "[encoded data removed]",
      "text/plain": [
       "<Figure size 640x480 with 1 Axes>"
      ]
     },
     "metadata": {},
     "output_type": "display_data"
    }
   ],
   "source": [
    "beam_plate6 = get_per_beamplate(data_dict['PTV'].copy(), data_dict['isocenter'],\n",
    "                                    [2, 2.5, 2.5], data_dict['angle_list'][5], with_distance = True).astype('float')\n",
    "print ('the beam angle is:', data_dict['angle_list'][5])\n",
    "\n",
    "plt.imshow(beam_plate6[48] + data_dict['PTV'][48])\n",
    "\n",
    "if save_fig:\n",
    "    plt.axis('off')\n",
    "    plt.savefig('figs/beam_plate6.png', bbox_inches='tight', pad_inches=0)"
   ]
  },
  {
   "cell_type": "code",
   "execution_count": 20,
   "metadata": {},
   "outputs": [
    {
     "name": "stdout",
     "output_type": "stream",
     "text": [
      "the beam angle is: 80.0\n"
     ]
    },
    {
     "data": {
      "image/png": "[encoded data removed]",
      "text/plain": [
       "<Figure size 640x480 with 1 Axes>"
      ]
     },
     "metadata": {},
     "output_type": "display_data"
    }
   ],
   "source": [
    "beam_plate7 = get_per_beamplate(data_dict['PTV'].copy(), data_dict['isocenter'],\n",
    "                                    [2, 2.5, 2.5], data_dict['angle_list'][6], with_distance = True).astype('float')\n",
    "print ('the beam angle is:', data_dict['angle_list'][6])    \n",
    "\n",
    "plt.imshow(beam_plate7[48] + data_dict['PTV'][48])\n",
    "\n",
    "if save_fig:\n",
    "    plt.axis('off')\n",
    "    plt.savefig('figs/beam_plate7.png', bbox_inches='tight', pad_inches=0)"
   ]
  },
  {
   "cell_type": "code",
   "execution_count": 21,
   "metadata": {},
   "outputs": [
    {
     "name": "stdout",
     "output_type": "stream",
     "text": [
      "the beam angle is: 240.0\n"
     ]
    },
    {
     "data": {
      "image/png": "[encoded data removed]",
      "text/plain": [
       "<Figure size 640x480 with 1 Axes>"
      ]
     },
     "metadata": {},
     "output_type": "display_data"
    }
   ],
   "source": [
    "beam_plate8 = get_per_beamplate(data_dict['PTV'].copy(), data_dict['isocenter'],\n",
    "                                    [2, 2.5, 2.5], data_dict['angle_list'][7], with_distance = True).astype('float')\n",
    "print ('the beam angle is:', data_dict['angle_list'][7])\n",
    "plt.imshow(beam_plate8[48] + data_dict['PTV'][48])  \n",
    "\n",
    "if save_fig:\n",
    "    plt.axis('off')\n",
    "    plt.savefig('figs/beam_plate8.png', bbox_inches='tight', pad_inches=0)"
   ]
  },
  {
   "cell_type": "code",
   "execution_count": 76,
   "metadata": {},
   "outputs": [
    {
     "name": "stdout",
     "output_type": "stream",
     "text": [
      "the beam angle is: 120.0\n"
     ]
    },
    {
     "data": {
      "text/plain": [
       "<matplotlib.image.AxesImage at 0x2aaba89d5ea0>"
      ]
     },
     "execution_count": 76,
     "metadata": {},
     "output_type": "execute_result"
    },
    {
     "data": {
      "image/png": "[encoded data removed]",
      "text/plain": [
       "<Figure size 640x480 with 1 Axes>"
      ]
     },
     "metadata": {},
     "output_type": "display_data"
    }
   ],
   "source": [
    "beam_plate9 = get_per_beamplate(data_dict['PTV'].copy(), data_dict['isocenter'],\n",
    "                                    [2, 2.5, 2.5], data_dict['angle_list'][8], with_distance = True).astype('float')\n",
    "print ('the beam angle is:', data_dict['angle_list'][8])\n",
    "plt.imshow(beam_plate9[48] + data_dict['PTV'][48])\n",
    "\n",
    "if save_fig:\n",
    "    plt.axis('off')\n",
    "    plt.savefig('figs/beam_plate9.png', bbox_inches='tight', pad_inches=0)"
   ]
  },
  {
   "cell_type": "code",
   "execution_count": 23,
   "metadata": {},
   "outputs": [],
   "source": [
    "final_beam_plate = np.zeros_like(data_dict['PTV']).astype('float32')\n",
    "\n",
    "for i in range(len(data_dict['angle_list'])):\n",
    "    gantry_angle = data_dict['angle_list'][i]\n",
    "    \n",
    "    tmp_plate = get_per_beamplate(data_dict['PTV'].copy(), data_dict['isocenter'], [2, 2.5, 2.5], gantry_angle).astype('float32')\n",
    "    final_beam_plate += tmp_plate\n",
    "\n",
    "    "
   ]
  },
  {
   "cell_type": "code",
   "execution_count": 24,
   "metadata": {},
   "outputs": [
    {
     "name": "stdout",
     "output_type": "stream",
     "text": [
      "0.0\n"
     ]
    },
    {
     "data": {
      "image/png": "[encoded data removed]",
      "text/plain": [
       "<Figure size 640x480 with 1 Axes>"
      ]
     },
     "metadata": {},
     "output_type": "display_data"
    }
   ],
   "source": [
    "print (np.sum(np.abs(final_beam_plate - data_dict['beam_plate'])))\n",
    "plt.imshow(final_beam_plate[48] + data_dict['PTV'][48])\n",
    "\n",
    "if save_fig:\n",
    "    plt.axis('off')\n",
    "    plt.savefig('figs/final_beam_plate.png', bbox_inches='tight', pad_inches=0)"
   ]
  }
 ],
 "metadata": {
  "kernelspec": {
   "display_name": "genai",
   "language": "python",
   "name": "python3"
  },
  "language_info": {
   "codemirror_mode": {
    "name": "ipython",
    "version": 3
   },
   "file_extension": ".py",
   "mimetype": "text/x-python",
   "name": "python",
   "nbconvert_exporter": "python",
   "pygments_lexer": "ipython3",
   "version": "3.10.13"
  }
 },
 "nbformat": 4,
 "nbformat_minor": 4
}

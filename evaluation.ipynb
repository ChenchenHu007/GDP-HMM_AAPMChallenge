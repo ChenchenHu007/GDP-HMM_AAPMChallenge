{
 "cells": [
  {
   "cell_type": "code",
   "execution_count": 1,
   "id": "1122a3c2-d26b-452b-9bf9-ac298a71e9f6",
   "metadata": {},
   "outputs": [
    {
     "name": "stdout",
     "output_type": "stream",
     "text": [
      "The history saving thread hit an unexpected error (DatabaseError('database disk image is malformed')).History will not be written to the database.\n"
     ]
    }
   ],
   "source": [
    "import numpy as np\n",
    "import json "
   ]
  },
  {
   "cell_type": "code",
   "execution_count": 2,
   "id": "2f6c6a08-7e97-4574-be21-695a2e6baf07",
   "metadata": {},
   "outputs": [
    {
     "data": {
      "text/plain": [
       "dict_keys(['Submand-PTV', 'SpinalCord_05', 'SpinalCord', 'Shoulders', 'Posterior_Neck', 'Pituitary', 'PharynxConst', 'PharConst-PTV', 'Parotids-PTV', 'Parotids', 'ParotidIps-PTV', 'ParotidCon-PTV', 'PTV_Total', 'PTV70', 'OralCavity', 'OpticNerve_R', 'OpticNerve_L', 'OCavity-PTV', 'Mandible-PTV', 'Mandible', 'Lungs', 'Lips', 'Lens_R', 'Lens_L', 'Larynx-PTV', 'Larynx', 'LacrimalGlands', 'Eyes', 'Esophagus', 'Cochlea_R', 'Cochlea_L', 'Chiasm', 'BrainStem_03', 'BrainStem', 'Brain', 'BrachialPlexus', 'Body', 'SubmandL-PTV', 'SubmandR-PTV', 'Submandibular', 'Thyroid', 'Thyroid-PTV', 'Trachea', 'all_mask', 'img', 'dose', 'dose_scale', 'isVMAT', 'angle_plate', 'isocenter', 'angle_list', 'origin', 'spacing', 'direction', 'size', 'beam_plate', 'RingPTVHigh', 'RingPTVLow', 'PTVHighOPT', 'PTVLowOPT', 'PTVLow-PTVMid', 'PTVLow'])"
      ]
     },
     "execution_count": 2,
     "metadata": {},
     "output_type": "execute_result"
    }
   ],
   "source": [
    "data_path = 'data/HNC_001+A4Ac+MOS_25934.npz'\n",
    "data_npz = np.load(data_path, allow_pickle=True)\n",
    "data_dict = dict(data_npz)['arr_0'].item()\n",
    "data_dict.keys()"
   ]
  },
  {
   "cell_type": "markdown",
   "id": "9ff6b3c2-0460-450c-8918-b0c548f8e27c",
   "metadata": {},
   "source": [
    "# Metric 1: Mean Absolute Error\n",
    "\n",
    "### Step 1: Normalize the dose by setting D97 to prescribed dose of PTV_High\n",
    "\n",
    "We will do this normalization in validation and testing phase, please make sure your predicted dose normalized in the same way. "
   ]
  },
  {
   "cell_type": "code",
   "execution_count": 3,
   "id": "c36e3434-a94c-4d48-a153-77d4a8071957",
   "metadata": {},
   "outputs": [],
   "source": [
    "scale_dose_Dict = json.load(open('PTV_DICT.json'))\n",
    "ref_dose = data_dict['dose'] * data_dict['dose_scale']\n",
    "ptv_highdose =  scale_dose_Dict['HNC_001']['PTV_High']['PDose']\n",
    "norm_scale = ptv_highdose / (np.percentile(ref_dose[data_dict['PTVHighOPT'].astype('bool')], 3) + 1e-5)\n",
    "ref_dose = ref_dose * norm_scale"
   ]
  },
  {
   "cell_type": "markdown",
   "id": "67eda8ef-9098-4caa-8097-2ac190354e82",
   "metadata": {},
   "source": [
    "### Step 2: Calculate the error\n",
    "\n",
    "Considering 1) Higher dose region is usually more important in clinical practice and 2) only dose within the body is of the interest, we mask out the regions with the 5 Gy isodose line and body mask. "
   ]
  },
  {
   "cell_type": "code",
   "execution_count": 11,
   "id": "51663e78-2c5a-4285-abf2-b42f718e30de",
   "metadata": {},
   "outputs": [
    {
     "name": "stdout",
     "output_type": "stream",
     "text": [
      "the MAE error is 17.917\n"
     ]
    }
   ],
   "source": [
    "prediction = np.random.random(ref_dose.shape) * 10 # replace random matrix with your prediction\n",
    "\n",
    "isodose_5Gy_mask = ((ref_dose > 5) | (prediction > 5)) & (data_dict['Body'] > 0) # the mask include the body AND the region where the dose/prediction is higher than 5Gy\n",
    "\n",
    "diff = ref_dose - prediction\n",
    "\n",
    "error = np.mean(np.abs(diff)[isodose_5Gy_mask > 0])\n",
    "\n",
    "print (f'the MAE error is {error:.3f}')"
   ]
  },
  {
   "cell_type": "code",
   "execution_count": 12,
   "id": "d9c755b1-33fb-406f-a0c0-cf9969d0db61",
   "metadata": {},
   "outputs": [
    {
     "data": {
      "text/plain": [
       "((529020,), (128, 137, 175))"
      ]
     },
     "execution_count": 12,
     "metadata": {},
     "output_type": "execute_result"
    }
   ],
   "source": [
    "np.abs(diff)[isodose_5Gy_mask > 0].shape, diff.shape"
   ]
  },
  {
   "cell_type": "markdown",
   "id": "eacfdf82-1fc3-487b-a15d-dbdf3759a8f1",
   "metadata": {},
   "source": [
    "# Metric 2: Plan quality of the derived deliverable plan\n",
    "\n",
    "The plan quality will be evaluted by the organizer using the Eclipse planning system. The participants only need to submit their prediction or solution. The rationale and pipeline of how the deliverable plan being created and how the plan quality metric is calcuated are documented in Ref [1] of <a href=\"README.md\" _target='blank'>README.md</a>. "
   ]
  }
 ],
 "metadata": {
  "kernelspec": {
   "display_name": "genai",
   "language": "python",
   "name": "python3"
  },
  "language_info": {
   "codemirror_mode": {
    "name": "ipython",
    "version": 3
   },
   "file_extension": ".py",
   "mimetype": "text/x-python",
   "name": "python",
   "nbconvert_exporter": "python",
   "pygments_lexer": "ipython3",
   "version": "3.10.13"
  }
 },
 "nbformat": 4,
 "nbformat_minor": 5
}
